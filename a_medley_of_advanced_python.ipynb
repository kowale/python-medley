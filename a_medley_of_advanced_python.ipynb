{
 "cells": [
  {
   "cell_type": "markdown",
   "metadata": {},
   "source": [
    "# _A Medley of Advanced Python_\n",
    "\n",
    "A collection of Python examples that showcase parts of the language that often are not included in beginner and intermediate tutorials. Best way to use this is to go from top to bottom and try to figure out how these things work. Text cells contain some background, motivation and pointers to related concepts.\n",
    "\n",
    "The code cells are meant to be mostly self-contained, which means that you can safely copy and paste what is in one cell. All this is work in progress."
   ]
  },
  {
   "cell_type": "markdown",
   "metadata": {},
   "source": [
    "# Metapythonic considerations\n",
    "\n",
    "- Origins of Python, execution model\n",
    "- PEP, documentation, core development\n",
    "- Style, consistency and linting\n",
    "- What exactly are IPython and Jupyter"
   ]
  },
  {
   "cell_type": "code",
   "execution_count": 1,
   "metadata": {},
   "outputs": [
    {
     "name": "stdout",
     "output_type": "stream",
     "text": [
      "The Zen of Python, by Tim Peters\n",
      "\n",
      "Beautiful is better than ugly.\n",
      "Explicit is better than implicit.\n",
      "Simple is better than complex.\n",
      "Complex is better than complicated.\n",
      "Flat is better than nested.\n",
      "Sparse is better than dense.\n",
      "Readability counts.\n",
      "Special cases aren't special enough to break the rules.\n",
      "Although practicality beats purity.\n",
      "Errors should never pass silently.\n",
      "Unless explicitly silenced.\n",
      "In the face of ambiguity, refuse the temptation to guess.\n",
      "There should be one-- and preferably only one --obvious way to do it.\n",
      "Although that way may not be obvious at first unless you're Dutch.\n",
      "Now is better than never.\n",
      "Although never is often better than *right* now.\n",
      "If the implementation is hard to explain, it's a bad idea.\n",
      "If the implementation is easy to explain, it may be a good idea.\n",
      "Namespaces are one honking great idea -- let's do more of those!\n"
     ]
    }
   ],
   "source": [
    "import this # This will only work once per session, can you figure out why?"
   ]
  },
  {
   "cell_type": "markdown",
   "metadata": {},
   "source": [
    "# Data structures\n",
    "\n",
    "Data structures are fundamental to any programming task.\n",
    "\n",
    "Very good reference is [Problem Solving with Algorithms and Data Structures using Python](https://runestone.academy/runestone/books/published/pythonds/index.html)."
   ]
  },
  {
   "cell_type": "markdown",
   "metadata": {},
   "source": [
    "## Lists"
   ]
  },
  {
   "cell_type": "code",
   "execution_count": 2,
   "metadata": {},
   "outputs": [
    {
     "data": {
      "text/plain": [
       "[(0, 1), (0, 2), (1, 0), (1, 2), (2, 0), (2, 1)]"
      ]
     },
     "execution_count": 2,
     "metadata": {},
     "output_type": "execute_result"
    }
   ],
   "source": [
    "[(a, b) for a in range(3) for b in range(3) if a != b]"
   ]
  },
  {
   "cell_type": "code",
   "execution_count": 4,
   "metadata": {},
   "outputs": [
    {
     "data": {
      "text/plain": [
       "True"
      ]
     },
     "execution_count": 4,
     "metadata": {},
     "output_type": "execute_result"
    }
   ],
   "source": [
    "m = [[x for x in range(1 + 2 * y, 4 + 2 * y)] for y in range(1, 4)]\n",
    "\n",
    "[[row[i] for row in m] for i in range(3)] == list(map(list, zip(*m)))"
   ]
  },
  {
   "cell_type": "markdown",
   "metadata": {},
   "source": [
    "## Dictionaries"
   ]
  },
  {
   "cell_type": "code",
   "execution_count": 5,
   "metadata": {},
   "outputs": [
    {
     "data": {
      "text/plain": [
       "{1: 'a', 2: 'b'}"
      ]
     },
     "execution_count": 5,
     "metadata": {},
     "output_type": "execute_result"
    }
   ],
   "source": [
    "(lambda d: {v: k for k, v in d.items()})({'a': 1, 'b': 2})"
   ]
  },
  {
   "cell_type": "code",
   "execution_count": 6,
   "metadata": {},
   "outputs": [
    {
     "data": {
      "text/plain": [
       "defaultdict(int, {'1': 1})"
      ]
     },
     "execution_count": 6,
     "metadata": {},
     "output_type": "execute_result"
    }
   ],
   "source": [
    "from collections import defaultdict\n",
    "\n",
    "nums = defaultdict(int); nums[\"1\"] = 1; nums"
   ]
  },
  {
   "cell_type": "markdown",
   "metadata": {},
   "source": [
    "## Queues"
   ]
  },
  {
   "cell_type": "code",
   "execution_count": 30,
   "metadata": {},
   "outputs": [
    {
     "name": "stdout",
     "output_type": "stream",
     "text": [
      "deque([0, 1, 2, 3, 4])\n",
      "Popped 4 from the right\n",
      "deque([0, 1, 2, 3])\n",
      "Popped 0 from the left\n",
      "deque([1, 2, 3])\n"
     ]
    }
   ],
   "source": [
    "from collections import deque\n",
    "\n",
    "queue = deque(range(5))\n",
    "\n",
    "print(queue)\n",
    "print(f\"Popped {queue.pop()} from the right\")\n",
    "print(queue)\n",
    "print(f\"Popped {queue.popleft()} from the left\")\n",
    "print(queue)"
   ]
  },
  {
   "cell_type": "code",
   "execution_count": 39,
   "metadata": {},
   "outputs": [
    {
     "data": {
      "text/plain": [
       "deque([1, 2, 3])"
      ]
     },
     "execution_count": 39,
     "metadata": {},
     "output_type": "execute_result"
    }
   ],
   "source": [
    "queue.rotate(1); queue # Run this couple times!"
   ]
  },
  {
   "cell_type": "markdown",
   "metadata": {},
   "source": [
    "## Sets"
   ]
  },
  {
   "cell_type": "code",
   "execution_count": 40,
   "metadata": {},
   "outputs": [
    {
     "data": {
      "text/plain": [
       "{(0, 0),\n",
       " (0, 1),\n",
       " (0, 2),\n",
       " (0, 3),\n",
       " (1, 1),\n",
       " (1, 2),\n",
       " (1, 3),\n",
       " (2, 2),\n",
       " (2, 3),\n",
       " (3, 3)}"
      ]
     },
     "execution_count": 40,
     "metadata": {},
     "output_type": "execute_result"
    }
   ],
   "source": [
    "set([(i, j) for i in range(4) for j in range(4)]) - \\\n",
    "set([(i, j) for i in range(4) for j in range(i)])"
   ]
  },
  {
   "cell_type": "code",
   "execution_count": 41,
   "metadata": {},
   "outputs": [
    {
     "data": {
      "text/plain": [
       "{'k', 'o', 's'}"
      ]
     },
     "execution_count": 41,
     "metadata": {},
     "output_type": "execute_result"
    }
   ],
   "source": [
    "set(\"konstanty\") - set(\"jan\") & set(\"kowalewski\")"
   ]
  },
  {
   "cell_type": "markdown",
   "metadata": {},
   "source": [
    "## Binary trees (WIP)\n",
    "\n",
    "Often, there is behaviour that we want to capture at the level of the structure itself, and hence abstract away the implementation details. Below is a classic example of making a custom data structure as a `class`. More on objects will follow later!"
   ]
  },
  {
   "cell_type": "code",
   "execution_count": 3,
   "metadata": {},
   "outputs": [],
   "source": [
    "class Node:\n",
    "    def __init__(self, data):\n",
    "        self.left = None\n",
    "        self.right = None\n",
    "        self.data = data\n",
    "    def insert(self, data):\n",
    "        if self.data:\n",
    "            if data < self.data:\n",
    "                if self.left is None:\n",
    "                    self.left = Node(data)\n",
    "                else:\n",
    "                    self.left.insert(data)\n",
    "            elif data > self.data:\n",
    "                if self.right is None:\n",
    "                    self.right = Node(data)\n",
    "                else:\n",
    "                    self.right.insert(data)\n",
    "        else:\n",
    "            self.data = data\n",
    "    def PrintTree(self):\n",
    "        if self.left:\n",
    "            self.left.PrintTree()\n",
    "        if self.right:\n",
    "            self.right.PrintTree()\n",
    "\n",
    "root = Node(12)\n",
    "root.insert(140)\n",
    "root.insert(6)\n",
    "root.insert(14)\n",
    "root.insert(3)\n",
    "root.PrintTree()"
   ]
  },
  {
   "cell_type": "markdown",
   "metadata": {},
   "source": [
    "## Singly-linked lists (WIP)"
   ]
  },
  {
   "cell_type": "code",
   "execution_count": 42,
   "metadata": {},
   "outputs": [],
   "source": [
    "class ListNode:\n",
    "    def __init__(self, data):\n",
    "        self.data = data\n",
    "        self.next = None\n",
    "\n",
    "class SingleLinkedList:\n",
    "    def __init__(self):\n",
    "        self.head = None\n",
    "        self.tail = None\n",
    "    def add_list_item(self, item):\n",
    "        if not isinstance(item, ListNode):\n",
    "            item = ListNode(item)\n",
    "        if self.head is None:\n",
    "            self.head = item\n",
    "        else:\n",
    "            self.tail.next = item\n",
    "        self.tail = item\n",
    "\n",
    "sll = SingleLinkedList()\n",
    "sll.add_list_item(1)\n",
    "sll.add_list_item(2)\n",
    "sll.add_list_item(3)"
   ]
  },
  {
   "cell_type": "markdown",
   "metadata": {},
   "source": [
    "# Control flow\n",
    "\n",
    "- Splat operator\n",
    "- Walrus operator\n",
    "- Exception handling"
   ]
  },
  {
   "cell_type": "code",
   "execution_count": 43,
   "metadata": {},
   "outputs": [
    {
     "data": {
      "text/plain": [
       "True"
      ]
     },
     "execution_count": 43,
     "metadata": {},
     "output_type": "execute_result"
    }
   ],
   "source": [
    "[*'sad'] == list('sad')"
   ]
  },
  {
   "cell_type": "code",
   "execution_count": 44,
   "metadata": {},
   "outputs": [
    {
     "data": {
      "text/plain": [
       "'s a d'"
      ]
     },
     "execution_count": 44,
     "metadata": {},
     "output_type": "execute_result"
    }
   ],
   "source": [
    "(lambda *args: \" \".join(args))(*'sad')"
   ]
  },
  {
   "cell_type": "code",
   "execution_count": 45,
   "metadata": {},
   "outputs": [
    {
     "name": "stdout",
     "output_type": "stream",
     "text": [
      "6\n"
     ]
    }
   ],
   "source": [
    "if (n := 6) > 5: print(n)"
   ]
  },
  {
   "cell_type": "code",
   "execution_count": 46,
   "metadata": {},
   "outputs": [
    {
     "name": "stdout",
     "output_type": "stream",
     "text": [
      ":(\n",
      ":)\n"
     ]
    }
   ],
   "source": [
    "try:\n",
    "    raise Exception(\":(\")\n",
    "    print(\":D\")\n",
    "except Exception as error:\n",
    "    print(error)\n",
    "finally:\n",
    "    print(\":)\")"
   ]
  },
  {
   "cell_type": "markdown",
   "metadata": {},
   "source": [
    "# Functional concepts\n",
    "\n",
    "- Exposition inspired by [documentation](https://docs.python.org/3/howto/functional.html)\n",
    "- Lazy-ish evaluation, iterators, generators\n",
    "- Built-in higher order functions"
   ]
  },
  {
   "cell_type": "code",
   "execution_count": 47,
   "metadata": {},
   "outputs": [
    {
     "data": {
      "text/plain": [
       "7"
      ]
     },
     "execution_count": 47,
     "metadata": {},
     "output_type": "execute_result"
    }
   ],
   "source": [
    "def seven():\n",
    "    (yield 7)\n",
    "\n",
    "next(seven())"
   ]
  },
  {
   "cell_type": "code",
   "execution_count": 48,
   "metadata": {},
   "outputs": [
    {
     "data": {
      "text/plain": [
       "24"
      ]
     },
     "execution_count": 48,
     "metadata": {},
     "output_type": "execute_result"
    }
   ],
   "source": [
    "from functools import reduce\n",
    "\n",
    "reduce(lambda x, y: x * y, range(1, 5))"
   ]
  },
  {
   "cell_type": "code",
   "execution_count": 49,
   "metadata": {},
   "outputs": [
    {
     "data": {
      "text/plain": [
       "8"
      ]
     },
     "execution_count": 49,
     "metadata": {},
     "output_type": "execute_result"
    }
   ],
   "source": [
    "from functools import partial\n",
    "\n",
    "partial(lambda x, y: x ** y, 2)(3)"
   ]
  },
  {
   "cell_type": "code",
   "execution_count": 50,
   "metadata": {},
   "outputs": [
    {
     "data": {
      "text/plain": [
       "[0, 1, 4, 9, 16]"
      ]
     },
     "execution_count": 50,
     "metadata": {},
     "output_type": "execute_result"
    }
   ],
   "source": [
    "list(map(lambda x: x ** 2, range(5)))"
   ]
  },
  {
   "cell_type": "code",
   "execution_count": 51,
   "metadata": {},
   "outputs": [
    {
     "data": {
      "text/plain": [
       "[0, 2, 4, 6, 8]"
      ]
     },
     "execution_count": 51,
     "metadata": {},
     "output_type": "execute_result"
    }
   ],
   "source": [
    "list(filter(lambda x: x % 2 == 0, range(10)))"
   ]
  },
  {
   "cell_type": "markdown",
   "metadata": {},
   "source": [
    "## Collatz conjecture\n",
    "\n",
    "Let $n\\in\\mathbb{N}$. Let $f(n)$ be $\\frac{n}{2}$ if $n$ is even and $3n+1$ if $n$ is odd. Then for any $n$, the sequence of applying $f$ will eventually reach $1$.\n",
    "\n",
    "Still unsolved as of 2020. Tao (2019) proved almost all orbits are bounded by a function that diverges into infinity. Lot's of experimental checks, these don't constitute the proof of course, see for example the story of [Pólya conjecture](https://en.wikipedia.org/wiki/P%C3%B3lya_conjecture).\n",
    "\n",
    ">The Pólya conjecture was disproved by C. Brian Haselgrove in 1958. He showed that the conjecture has a counterexample, which he estimated to be around 1.845 × 10361.\n",
    ">\n",
    ">An explicit counterexample, of n = 906,180,359 was given by R. Sherman Lehman in 1960; the smallest counterexample is n = 906,150,257, found by Minoru Tanaka in 1980."
   ]
  },
  {
   "cell_type": "code",
   "execution_count": 52,
   "metadata": {},
   "outputs": [
    {
     "data": {
      "text/plain": [
       "2"
      ]
     },
     "execution_count": 52,
     "metadata": {},
     "output_type": "execute_result"
    }
   ],
   "source": [
    "f = lambda n: n // 2 if n % 2 == 0 else 3 * n + 1\n",
    "\n",
    "collatz = lambda s, m: reduce(lambda n, _: f(n), [1] * m, s)\n",
    "\n",
    "collatz(5, 100)"
   ]
  },
  {
   "cell_type": "markdown",
   "metadata": {},
   "source": [
    "## Callable objects in iterators"
   ]
  },
  {
   "cell_type": "code",
   "execution_count": 59,
   "metadata": {},
   "outputs": [
    {
     "name": "stdout",
     "output_type": "stream",
     "text": [
      "6\n",
      "7\n",
      "8\n",
      "3\n",
      "10\n",
      "3\n"
     ]
    }
   ],
   "source": [
    "from random import randint\n",
    "\n",
    "for c in iter(lambda: randint(1, 10), 5):\n",
    "    print(c)"
   ]
  },
  {
   "cell_type": "markdown",
   "metadata": {},
   "source": [
    "# Closures\n",
    "\n",
    "Closures are about storing a function and its environment. Scopes in functions are local, but since we can nest functions, there has to be some mechanism to retain variables that are defined outside the inner function but aren't in the global scope. Some inspiration in exposition comes from [this](https://medium.com/techtofreedom/5-levels-of-understanding-closures-in-python-a0e1212baf6d)."
   ]
  },
  {
   "cell_type": "code",
   "execution_count": 31,
   "metadata": {},
   "outputs": [
    {
     "data": {
      "text/plain": [
       "True"
      ]
     },
     "execution_count": 31,
     "metadata": {},
     "output_type": "execute_result"
    }
   ],
   "source": [
    "def outer():\n",
    "    x = 1\n",
    "    def inner():\n",
    "        return x\n",
    "    return inner\n",
    "\n",
    "outer().__closure__[0].cell_contents == outer()()"
   ]
  },
  {
   "cell_type": "markdown",
   "metadata": {},
   "source": [
    "# Decorators\n",
    "\n",
    "A concise syntax for wrapping functions."
   ]
  },
  {
   "cell_type": "code",
   "execution_count": 24,
   "metadata": {},
   "outputs": [
    {
     "name": "stdout",
     "output_type": "stream",
     "text": [
      "The something took 1.001s\n"
     ]
    }
   ],
   "source": [
    "from time import time\n",
    "from time import sleep\n",
    "from random import choice\n",
    "\n",
    "def timed(f):\n",
    "    def ftimed(*args, **kwargs):\n",
    "        started = time()\n",
    "        output = f(*args, **kwargs)\n",
    "        elapsed = time() - started\n",
    "        print(f\"The {f.__name__} took {round(elapsed, 3)}s\")\n",
    "        return output\n",
    "    return ftimed\n",
    "\n",
    "@timed\n",
    "def something():\n",
    "    [sleep(choice(range(2))) for _ in range(2)]\n",
    "    \n",
    "something()"
   ]
  },
  {
   "cell_type": "markdown",
   "metadata": {},
   "source": [
    "An example of decorators in the wild could be `Flask`, a minimal web framework.\n",
    "\n",
    "```python\n",
    "from flask import Flask\n",
    "app = Flask()\n",
    "\n",
    "@app.route(\"/welcome\")\n",
    "def welcome():\n",
    "    return \"Welcome!\"\n",
    "```\n",
    "\n",
    "This would render `Welcome!` in text when visiting `www.domain.tld/welcome`"
   ]
  },
  {
   "cell_type": "markdown",
   "metadata": {},
   "source": [
    "# Context managers\n",
    "\n",
    "Recall try/finally; turns out this idea of \"cleaning up\" is very generally applicable.\n",
    "\n",
    "- Write a class with `__enter__` and `__exit__` dunder methods\n",
    "- Enter new scope using `with`\n",
    "- Optionally catch the entering value with `as`\n",
    "- Execute statements in the _context_\n",
    "- Just before leaving the scope, run exiting code"
   ]
  },
  {
   "cell_type": "code",
   "execution_count": 25,
   "metadata": {},
   "outputs": [
    {
     "name": "stdout",
     "output_type": "stream",
     "text": [
      "8770855645754\n"
     ]
    }
   ],
   "source": [
    "class Context:\n",
    "    def __init__(self):\n",
    "        pass\n",
    "    def __enter__(self):\n",
    "        return self\n",
    "    def __exit__(self, *args):\n",
    "        pass\n",
    "    \n",
    "with Context() as context:\n",
    "    print(context.__hash__())"
   ]
  },
  {
   "cell_type": "code",
   "execution_count": 29,
   "metadata": {
    "scrolled": true
   },
   "outputs": [
    {
     "name": "stdout",
     "output_type": "stream",
     "text": [
      "Took 0.249s\n"
     ]
    }
   ],
   "source": [
    "from time import time\n",
    "\n",
    "class Timer:\n",
    "    def __init__(self):\n",
    "        self.started = time()\n",
    "    def __enter__(self):\n",
    "        return self\n",
    "    def __exit__(self, *args):\n",
    "        ended = time()\n",
    "        elapsed = ended - self.started\n",
    "        print(f\"Took {round(elapsed, 3)}s\")\n",
    "\n",
    "with Timer(): sum([i**i for i in range(3000)])"
   ]
  }
 ],
 "metadata": {
  "kernelspec": {
   "display_name": "Python 3",
   "language": "python",
   "name": "python3"
  },
  "language_info": {
   "codemirror_mode": {
    "name": "ipython",
    "version": 3
   },
   "file_extension": ".py",
   "mimetype": "text/x-python",
   "name": "python",
   "nbconvert_exporter": "python",
   "pygments_lexer": "ipython3",
   "version": "3.9.1"
  }
 },
 "nbformat": 4,
 "nbformat_minor": 4
}
